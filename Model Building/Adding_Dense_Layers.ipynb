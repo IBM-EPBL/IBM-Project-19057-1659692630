{
  "nbformat": 4,
  "nbformat_minor": 0,
  "metadata": {
    "colab": {
      "provenance": []
    },
    "kernelspec": {
      "name": "python3",
      "display_name": "Python 3"
    },
    "language_info": {
      "name": "python"
    }
  },
  "cells": [
    {
      "cell_type": "markdown",
      "source": [
        "Adding Dense Layers"
      ],
      "metadata": {
        "id": "n3-igxVlqbQ0"
      }
    },
    {
      "cell_type": "code",
      "execution_count": 6,
      "metadata": {
        "id": "GDCEDd6_qSEs"
      },
      "outputs": [],
      "source": [
        "#Importing model libraries\n",
        "from tensorflow.keras.layers import Dense"
      ]
    },
    {
      "cell_type": "code",
      "source": [
        "#Adding Hidden Layers\n",
        "model.add(Dense(300,activation='relu'))\n",
        "model.add(Dense(150,activation='relu'))"
      ],
      "metadata": {
        "id": "IM4YrZnbsNY5"
      },
      "execution_count": 7,
      "outputs": []
    },
    {
      "cell_type": "code",
      "source": [
        "#Adding Output Layer\n",
        "model.add(Dense(5,activation='sigmoid'))"
      ],
      "metadata": {
        "id": "wi2-d4_DuLdc"
      },
      "execution_count": 8,
      "outputs": []
    }
  ]
}