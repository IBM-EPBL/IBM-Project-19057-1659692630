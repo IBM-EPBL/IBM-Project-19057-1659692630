{
  "nbformat": 4,
  "nbformat_minor": 0,
  "metadata": {
    "colab": {
      "provenance": []
    },
    "kernelspec": {
      "name": "python3",
      "display_name": "Python 3"
    },
    "language_info": {
      "name": "python"
    }
  },
  "cells": [
    {
      "cell_type": "markdown",
      "source": [
        "Configuring the Learning Process"
      ],
      "metadata": {
        "id": "n3-igxVlqbQ0"
      }
    },
    {
      "cell_type": "code",
      "source": [
        "model.compile(loss='binary_crossentropy',\n",
        "              optimizer='adam',\n",
        "              metrics=['accuracy'])"
      ],
      "metadata": {
        "id": "wi2-d4_DuLdc"
      },
      "execution_count": 9,
      "outputs": []
    }
  ]
}