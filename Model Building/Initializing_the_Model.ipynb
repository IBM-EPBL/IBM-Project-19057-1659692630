{
  "nbformat": 4,
  "nbformat_minor": 0,
  "metadata": {
    "colab": {
      "provenance": []
    },
    "kernelspec": {
      "name": "python3",
      "display_name": "Python 3"
    },
    "language_info": {
      "name": "python"
    }
  },
  "cells": [
    {
      "cell_type": "markdown",
      "source": [
        "Initializing the Model"
      ],
      "metadata": {
        "id": "n3-igxVlqbQ0"
      }
    },
    {
      "cell_type": "code",
      "execution_count": 2,
      "metadata": {
        "id": "GDCEDd6_qSEs"
      },
      "outputs": [],
      "source": [
        "#Importing model libraries\n",
        "from tensorflow.keras.models import Sequential\n"
      ]
    },
    {
      "cell_type": "code",
      "source": [
        "model=Sequential()"
      ],
      "metadata": {
        "id": "Xeh7ctdFrfad"
      },
      "execution_count": 3,
      "outputs": []
    }
  ]
}