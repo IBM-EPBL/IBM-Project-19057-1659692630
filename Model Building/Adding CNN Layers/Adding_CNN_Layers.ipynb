{
  "nbformat": 4,
  "nbformat_minor": 0,
  "metadata": {
    "colab": {
      "provenance": []
    },
    "kernelspec": {
      "name": "python3",
      "display_name": "Python 3"
    },
    "language_info": {
      "name": "python"
    }
  },
  "cells": [
    {
      "cell_type": "markdown",
      "source": [
        "Adding CNN Layers"
      ],
      "metadata": {
        "id": "n3-igxVlqbQ0"
      }
    },
    {
      "cell_type": "code",
      "execution_count": 4,
      "metadata": {
        "id": "GDCEDd6_qSEs"
      },
      "outputs": [],
      "source": [
        "#Importing model libraries\n",
        "from tensorflow.keras.models import Sequential\n",
        "model=Sequential()"
      ]
    },
    {
      "cell_type": "code",
      "source": [
        "#Adding CNN Layers\n",
        "model.add(Convolution2D(32,(3,3),input_shape=(128,128,3),activation='relu'))\n",
        "model.add(MaxPooling2D(pool_size=(2,2)))\n",
        "model.add(Flatten())"
      ],
      "metadata": {
        "id": "IM4YrZnbsNY5"
      },
      "execution_count": 5,
      "outputs": []
    }
  ]
}