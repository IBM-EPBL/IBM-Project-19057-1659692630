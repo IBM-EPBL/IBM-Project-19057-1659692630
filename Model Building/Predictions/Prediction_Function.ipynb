{
  "nbformat": 4,
  "nbformat_minor": 0,
  "metadata": {
    "colab": {
      "provenance": [],
      "collapsed_sections": []
    },
    "kernelspec": {
      "name": "python3",
      "display_name": "Python 3"
    },
    "language_info": {
      "name": "python"
    }
  },
  "cells": [
    {
      "cell_type": "code",
      "execution_count": 1,
      "metadata": {
        "id": "G9z3t-xhtAtu"
      },
      "outputs": [],
      "source": [
        "from tensorflow.keras.models import Sequential\n",
        "model=Sequential()"
      ]
    },
    {
      "cell_type": "code",
      "source": [
        "pred = model.predict(x)\n",
        "pred = np.round(pred)"
      ],
      "metadata": {
        "id": "C9PDe5f9teko"
      },
      "execution_count": null,
      "outputs": []
    },
    {
      "cell_type": "code",
      "source": [
        "def predictImage(filename):\n",
        "  img1=image.load_img(filename,target_size=(128,128))\n",
        "  plt.imshow(img1)\n",
        "  y=image.img_to_array(img1)\n",
        "  x=np.expand_dims(y,axis=0)\n",
        "  val=model.predict(x)\n",
        "  print(val)\n",
        "  if val==0:\n",
        "    plt.xlabel(\" No Fire\",fontsize=30)\n",
        "  elif val==1:\n",
        "    plt.xlabel(\"Fire\",fontsize=30)"
      ],
      "metadata": {
        "id": "1FDQX9bhtkpu"
      },
      "execution_count": null,
      "outputs": []
    },
    {
      "cell_type": "code",
      "source": [
        "predictImage(\"/content/drive/MyDrive/Forest-Dataset/forest_fire/Testing/fire/abc173.jpg\")\n",
        "plt.xlabel(\"fire\",fontsize=30)"
      ],
      "metadata": {
        "id": "nzYuNNbxtpzk"
      },
      "execution_count": null,
      "outputs": []
    },
    {
      "cell_type": "code",
      "source": [
        "predictImage('/content/drive/MyDrive/Forest-Dataset/forest_fire/Testing/nofire/abc377.jpg')\n",
        "plt.xlabel(\" NO fire\",fontsize=30)"
      ],
      "metadata": {
        "id": "eVmcnTljts-p"
      },
      "execution_count": null,
      "outputs": []
    }
  ]
}