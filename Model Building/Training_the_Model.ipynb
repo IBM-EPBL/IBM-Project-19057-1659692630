{
  "nbformat": 4,
  "nbformat_minor": 0,
  "metadata": {
    "colab": {
      "provenance": []
    },
    "kernelspec": {
      "name": "python3",
      "display_name": "Python 3"
    },
    "language_info": {
      "name": "python"
    }
  },
  "cells": [
    {
      "cell_type": "markdown",
      "source": [
        "Training the Model"
      ],
      "metadata": {
        "id": "n3-igxVlqbQ0"
      }
    },
    {
      "cell_type": "code",
      "source": [
        "#fit or train the model\n",
        "model.fit_generator(x_train,steps_per_epoch=14,\n",
        "                    epochs=10,validation_data=x_test,\n",
        "                    validation_steps=4)"
      ],
      "metadata": {
        "id": "wi2-d4_DuLdc"
      },
      "execution_count": 9,
      "outputs": []
    }
  ]
}