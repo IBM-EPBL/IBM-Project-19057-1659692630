{
  "nbformat": 4,
  "nbformat_minor": 0,
  "metadata": {
    "colab": {
      "provenance": []
    },
    "kernelspec": {
      "name": "python3",
      "display_name": "Python 3"
    },
    "language_info": {
      "name": "python"
    }
  },
  "cells": [
    {
      "cell_type": "markdown",
      "source": [
        "#Twilio Account"
      ],
      "metadata": {
        "id": "QzVeBUfGwne-"
      }
    },
    {
      "cell_type": "markdown",
      "source": [
        "account_sid = 'AC0919212286ee0fa7e4228913458e863f'\n",
        "\n",
        "auth_token = 'be43a0e16f576d34aad641b0cec546ef'\n",
        "\n",
        "client = Client(account_sid, auth_token)\n",
        "\n",
        "message = client.messages \\\n",
        "\n",
        "    .create(\n",
        "        \n",
        "         body='Forest fire is detected , stay alert',\n",
        "\n",
        "         from_='+16075363954',\n",
        "\n",
        "         to='+919488200286'\n",
        "         \n",
        "     )\n",
        "\n",
        "print(message.sid)"
      ],
      "metadata": {
        "id": "Q3k-FhR7xNhC"
      }
    }
  ]
}
