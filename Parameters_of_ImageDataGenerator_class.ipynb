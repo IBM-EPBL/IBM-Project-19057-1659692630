{
  "nbformat": 4,
  "nbformat_minor": 0,
  "metadata": {
    "colab": {
      "provenance": []
    },
    "kernelspec": {
      "name": "python3",
      "display_name": "Python 3"
    },
    "language_info": {
      "name": "python"
    }
  },
  "cells": [
    {
      "cell_type": "code",
      "source": [
        "from keras.preprocessing.image import ImageDataGenerator"
      ],
      "metadata": {
        "id": "1t-rn4lS2yjt"
      },
      "execution_count": 3,
      "outputs": []
    },
    {
      "cell_type": "code",
      "execution_count": 4,
      "metadata": {
        "id": "bIe7TkiX2QAz"
      },
      "outputs": [],
      "source": [
        "datagen = ImageDataGenerator(rotation_range=40, width_shift_range=0.2,\n",
        "                            height_shift_range=0.2,\n",
        "                            shear_range=0.2, zoom_range=0.2,\n",
        "                            horizontal_flip=True, validation_split=0.1)"
      ]
    }
  ]
}